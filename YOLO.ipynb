{
 "cells": [
  {
   "cell_type": "code",
   "execution_count": 21,
   "metadata": {},
   "outputs": [
    {
     "data": {
      "text/plain": [
       "192"
      ]
     },
     "execution_count": 21,
     "metadata": {},
     "output_type": "execute_result"
    }
   ],
   "source": [
    "64*3\n"
   ]
  },
  {
   "cell_type": "code",
   "execution_count": 1,
   "metadata": {},
   "outputs": [],
   "source": [
    "import tensorflow as tf\n",
    "import numpy as np\n",
    "\n",
    "ImageSize = 448\n",
    "NumChannel = 3\n",
    "NumClass = 1000\n",
    "\n",
    "BatchSize = 4\n",
    "FilterSize1 = 7\n",
    "OutputSize1 = 64*NumChannel\n",
    "NumStrides = 2\n",
    "\n",
    "FilterSize2 = 3\n",
    "OutputSize2 = 256\n",
    "\n",
    "F2 = tf.Variable(tf.truncated_normal(shape=[FilterSize2,FilterSize2,OutputSize1,OutputSize2], stddev=0.1))\n",
    "\n",
    "weights = {\n",
    "    # 7x7 conv, 3 input, 192 outputs\n",
    "    'F1': tf.Variable(tf.truncated_normal(shape=[FilterSize1,FilterSize1,NumChannel,OutputSize1], stddev=0.1)),\n",
    "    # 3x3 conv, 192 inputs, 256 outputs\n",
    "    'F2': tf.Variable(tf.truncated_normal(shape=[FilterSize2,FilterSize2,OutputSize1,OutputSize2], stddev=0.1)),\n",
    "    # 3x3 conv, 256 inputs, 512 outputs\n",
    "    'F3': tf.Variable(tf.truncated_normal(shape=[3,3,256,512], stddev=0.1)),\n",
    "    # 3x3 conv, 512 inputs, 1024 outputs\n",
    "    'F4': tf.Variable(tf.truncated_normal(shape=[3,3,512,1024], stddev=0.1)),\n",
    "    # 3x3 conv, 1024 inputs, 1024 outputs\n",
    "    'F5': tf.Variable(tf.truncated_normal(shape=[3,3,1024,1024], stddev=0.1)),\n",
    "    # fully connected, 7*7*1024 inputs, 4096 outputs\n",
    "    'W6': tf.Variable(tf.random_normal([7*7*1024, 4096])),\n",
    "    \n",
    "    \n",
    "    \n",
    "}\n",
    "\n",
    "biases = {\n",
    "    'bc1': tf.Variable(tf.random_normal([OutputSize1])),\n",
    "    'bc2': tf.Variable(tf.random_normal([OutputSize2])),\n",
    "    'bc3': tf.Variable(tf.random_normal([512])),\n",
    "    'bc4': tf.Variable(tf.random_normal([1024])),\n",
    "    'bc5': tf.Variable(tf.random_normal([1024])),\n",
    "    'bw6': tf.Variable(tf.random_normal([4096])),\n",
    "    \n",
    "}\n",
    "def conv2d(x, W, b, strides=1):\n",
    "    # Conv2D wrapper, with bias and relu activation\n",
    "    x = tf.nn.conv2d(x, W, strides=[1, strides, strides, 1], padding='SAME')\n",
    "    x = tf.nn.bias_add(x, b)\n",
    "    return tf.nn.relu(x)"
   ]
  },
  {
   "cell_type": "code",
   "execution_count": 2,
   "metadata": {},
   "outputs": [
    {
     "name": "stdout",
     "output_type": "stream",
     "text": [
      "conv1:  (4, 224, 224, 192)\n",
      "mxpl1:  (4, 112, 112, 192)\n",
      "conv2:  (4, 112, 112, 256)\n",
      "mxpl2:  (4, 56, 56, 256)\n",
      "conv3:  (4, 56, 56, 512)\n",
      "mxpl3:  (4, 28, 28, 512)\n",
      "conv4:  (4, 28, 28, 1024)\n",
      "mxpl4:  (4, 14, 14, 1024)\n",
      "conv5:  (4, 14, 14, 1024)\n",
      "mxpl5:  (4, 7, 7, 1024)\n",
      "ful7:  (4, 7, 7, 30)\n"
     ]
    }
   ],
   "source": [
    "# Fast YOLO with 9 layers\n",
    "input_image = tf.placeholder(tf.float32,shape=(BatchSize,ImageSize,ImageSize,NumChannel))\n",
    "output = tf.placeholder(tf.float32, shape=(BatchSize, NumClass))\n",
    "\n",
    "\n",
    "# Conv Layer 1\n",
    "\n",
    "strides = [1,NumStrides,NumStrides,1]\n",
    "conv1 = conv2d(x=input_image, W=weights['F1'], b=biases['bc1'], strides=NumStrides)\n",
    "mxpl1 = tf.nn.max_pool(conv1, ksize=(1,2,2,1), strides=strides,padding='SAME')\n",
    "\n",
    "print('conv1: ',conv1.shape)\n",
    "print('mxpl1: ', mxpl1.shape)\n",
    "\n",
    "# Conv Layer 2\n",
    "conv2 = conv2d(x=mxpl1, W=weights['F2'], b=biases['bc2'],strides=1)\n",
    "mxpl2 = tf.nn.max_pool(conv2, ksize=(1,2,2,1), strides=strides,padding='SAME')\n",
    "\n",
    "print('conv2: ',conv2.shape)\n",
    "print('mxpl2: ', mxpl2.shape)\n",
    "\n",
    "# Conv Layer 3\n",
    "conv3 = conv2d(x=mxpl2, W=weights['F3'], b=biases['bc3'],strides=1)\n",
    "mxpl3 = tf.nn.max_pool(conv3, ksize=(1,2,2,1), strides=strides,padding='SAME')\n",
    "\n",
    "print('conv3: ',conv3.shape)\n",
    "print('mxpl3: ', mxpl3.shape)\n",
    "\n",
    "# Conv Layer 4\n",
    "conv4 = conv2d(x=mxpl3, W=weights['F4'], b=biases['bc4'],strides=1)\n",
    "mxpl4 = tf.nn.max_pool(conv4, ksize=(1,2,2,1), strides=strides,padding='SAME')\n",
    "\n",
    "print('conv4: ',conv4.shape)\n",
    "print('mxpl4: ', mxpl4.shape)\n",
    "\n",
    "# Conv Layer 5\n",
    "conv5 = conv2d(x=mxpl4, W=weights['F5'], b=biases['bc5'],strides=1)\n",
    "mxpl5 = tf.nn.max_pool(conv5, ksize=(1,2,2,1), strides=strides,padding='SAME')\n",
    "\n",
    "print('conv5: ',conv5.shape)\n",
    "print('mxpl5: ', mxpl5.shape)\n",
    "# Fully connected 6\n",
    "ful6 = tf.reshape(mxpl5,[-1, 7*7*1024])\n",
    "ful6 = tf.layers.dense(inputs=ful6,units=4096,activation=tf.nn.relu)\n",
    "ful7 = tf.layers.dense(inputs=ful6,units=7*7*30,activation=tf.nn.relu)\n",
    "ful7 = tf.reshape(ful7,[-1,7,7,30])\n",
    "\n",
    "print('ful7: ',ful7.shape)\n",
    "\n"
   ]
  },
  {
   "cell_type": "code",
   "execution_count": null,
   "metadata": {},
   "outputs": [],
   "source": []
  }
 ],
 "metadata": {
  "kernelspec": {
   "display_name": "RL",
   "language": "python",
   "name": "rl"
  },
  "language_info": {
   "codemirror_mode": {
    "name": "ipython",
    "version": 3
   },
   "file_extension": ".py",
   "mimetype": "text/x-python",
   "name": "python",
   "nbconvert_exporter": "python",
   "pygments_lexer": "ipython3",
   "version": "3.6.6"
  }
 },
 "nbformat": 4,
 "nbformat_minor": 2
}

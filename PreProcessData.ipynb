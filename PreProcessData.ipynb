{
 "cells": [
  {
   "cell_type": "code",
   "execution_count": 1,
   "metadata": {},
   "outputs": [
    {
     "name": "stdout",
     "output_type": "stream",
     "text": [
      "n00004475\n",
      "http://farm4.static.flickr.com/3175/2737866473_7958dc8760.jpg\n",
      "n00004475\n",
      "http://farm4.static.flickr.com/3276/2875184020_9944005d0d.jpg\n",
      "n00004475\n",
      "http://farm3.static.flickr.com/2531/4094333885_e8462a8338.jpg\n",
      "n00004475\n",
      "http://farm4.static.flickr.com/3289/2809605169_8efe2b8f27.jpg\n",
      "n00004475\n",
      "http://2.bp.blogspot.com/_SrRTF97Kbfo/SUqT9y-qTVI/AAAAAAAABmg/saRXhruwS6M/s400/bARADEI.jpg\n",
      "n00004475\n",
      "http://fortunaweb.com.ar/wp-content/uploads/2009/10/Caroline-Atkinson-FMI.jpg\n",
      "n00004475\n",
      "http://farm4.static.flickr.com/3488/4051378654_238ca94313.jpg\n",
      "n00004475\n",
      "http://farm4.static.flickr.com/3368/3198142470_6eb0be5f32.jpg\n",
      "n00005787\n",
      "http://www.powercai.net/Photo/UploadPhotos/200503/20050307172201492.jpg\n",
      "http://www.powercai.net/Photo/UploadPhotos/200503/20050307172201492.jpg  Not exist\n",
      "n00005787\n",
      "http://www.web07.cn/uploads/Photo/c101122/12Z3Y54RZ-22027.jpg\n",
      "http://www.web07.cn/uploads/Photo/c101122/12Z3Y54RZ-22027.jpg  Not exist\n",
      "n00005787\n",
      "http://www.mitravel.com.tw/html/asia/2011/Palau-4/index_clip_image002_0000.jpg\n",
      "http://www.mitravel.com.tw/html/asia/2011/Palau-4/index_clip_image002_0000.jpg  Not exist\n",
      "n00005787\n",
      "http://news.xinhuanet.com/mil/2007-05/19/xinsrc_36205041914150623191153.jpg\n",
      "http://news.xinhuanet.com/mil/2007-05/19/xinsrc_36205041914150623191153.jpg  Not exist\n",
      "n00005787\n",
      "http://ib.berkeley.edu/labs/koehl/images/hannah.jpg\n",
      "n00005787\n",
      "http://down.tutu001.com/d/file/20110307/ef7937c2b70bfc2da539eea9df_560.jpg\n",
      "n00005787\n",
      "http://farm3.static.flickr.com/2278/2300491905_5272f77e56.jpg\n",
      "n00005787\n",
      "http://www.pic35.com/uploads/allimg/100526/1-100526224U1.jpg\n",
      "http://www.pic35.com/uploads/allimg/100526/1-100526224U1.jpg  Not exist\n",
      "n00005787\n",
      "http://img.99118.com/Big2/1024768/20101211/1700013.jpg\n",
      "http://img.99118.com/Big2/1024768/20101211/1700013.jpg  Not exist\n",
      "n00005787\n",
      "http://farm1.static.flickr.com/45/139488995_bd06578562.jpg\n",
      "n00005787\n",
      "http://farm3.static.flickr.com/2285/2658605078_f409b25597.jpg\n",
      "n00005787\n",
      "http://farm4.static.flickr.com/3202/2960028736_74d31b947d.jpg\n",
      "Elapsed time is  67.82254362106323 seconds\n",
      "Number of pics: 20\n",
      "Number of catefories:  2\n",
      "Valid image: 14\n"
     ]
    }
   ],
   "source": [
    "# %reset\n",
    "import time\n",
    "import re\n",
    "import pickle\n",
    "from skimage import io\n",
    "filename = 'fall11_urls.txt'\n",
    "counter = 1\n",
    "nline = 0\n",
    "catDict = dict()\n",
    "nValid = 0\n",
    "with open(filename, encoding='utf8') as file:\n",
    "    tic = time.time()\n",
    "    for i in range(20):\n",
    "        nline+=1\n",
    "        line = next(file)\n",
    "        text = line.split('_',1)\n",
    "        key = text[0]\n",
    "        text = text[1].split('\\t')\n",
    "        URL = text[1].split('\\n')[0]\n",
    "        print(key)\n",
    "        print(URL)\n",
    "        if key not in catDict:\n",
    "            catDict[key] = counter\n",
    "        else:\n",
    "            catDict[key] += counter\n",
    "            \n",
    "        try:\n",
    "            I = io.imread(URL)\n",
    "            nValid+=1\n",
    "#             print(I.shape)\n",
    "#             io.imshow(I)\n",
    "#             io.show()\n",
    "        except:\n",
    "            print(URL, ' Not exist')\n",
    "            \n",
    "    toc = time.time() - tic\n",
    "print('Elapsed time is ',toc, 'seconds')\n",
    "print('Number of pics:' ,nline)\n",
    "print('Number of catefories: ', len(catDict))\n",
    "print('Valid image:', nValid)\n",
    "# pickle.dump( catDict, open( \"categories.p\", \"wb\" )) \n"
   ]
  },
  {
   "cell_type": "code",
   "execution_count": 26,
   "metadata": {},
   "outputs": [],
   "source": [
    "\n",
    "\n",
    "file = cStringIO.StringIO(urllib.urlopen(URL).read())\n",
    "img = Image.open(file)"
   ]
  },
  {
   "cell_type": "code",
   "execution_count": 37,
   "metadata": {},
   "outputs": [
    {
     "name": "stdout",
     "output_type": "stream",
     "text": [
      "Number of catefories:  1268\n"
     ]
    }
   ],
   "source": [
    "catDictCopy = pickle.load( open( \"categories.p\", \"rb\" ) )\n",
    "print('Number of catefories: ', len(catDict))"
   ]
  }
 ],
 "metadata": {
  "kernelspec": {
   "display_name": "Python 3",
   "language": "python",
   "name": "python3"
  },
  "language_info": {
   "codemirror_mode": {
    "name": "ipython",
    "version": 3
   },
   "file_extension": ".py",
   "mimetype": "text/x-python",
   "name": "python",
   "nbconvert_exporter": "python",
   "pygments_lexer": "ipython3",
   "version": "3.6.3"
  }
 },
 "nbformat": 4,
 "nbformat_minor": 2
}
